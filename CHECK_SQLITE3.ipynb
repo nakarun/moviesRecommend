{
 "cells": [
  {
   "cell_type": "code",
   "execution_count": 1,
   "metadata": {
    "collapsed": true
   },
   "outputs": [],
   "source": [
    "import sqlite3"
   ]
  },
  {
   "cell_type": "code",
   "execution_count": 2,
   "metadata": {
    "collapsed": true
   },
   "outputs": [],
   "source": [
    "con = sqlite3.connect(\"movies.db\")"
   ]
  },
  {
   "cell_type": "code",
   "execution_count": 3,
   "metadata": {
    "collapsed": true
   },
   "outputs": [],
   "source": [
    "import pandas as pd\n",
    "from pandas import Series,DataFrame"
   ]
  },
  {
   "cell_type": "code",
   "execution_count": 4,
   "metadata": {
    "collapsed": true
   },
   "outputs": [],
   "source": [
    "# 関数を作って、SQL文の実行結果をDataFrameにして返します。\n",
    "def sql_to_df(sql_query):\n",
    "\n",
    "    # read_sqlの引数に、SQL文とデータベースへのConnectionを渡します。\n",
    "    df = pd.read_sql(sql_query, con)\n",
    "\n",
    "    # 結果のDataFrameを返します。\n",
    "    return df"
   ]
  },
  {
   "cell_type": "code",
   "execution_count": 5,
   "metadata": {
    "collapsed": false
   },
   "outputs": [
    {
     "data": {
      "text/plain": [
       "<sqlite3.Cursor at 0x112e3e0a0>"
      ]
     },
     "execution_count": 5,
     "metadata": {},
     "output_type": "execute_result"
    }
   ],
   "source": [
    "con.execute(\"insert into reviews(title, review) values('天空の城ラピュタ', '天空の城ラピュタへ冒険をする物語。')\")"
   ]
  },
  {
   "cell_type": "code",
   "execution_count": 6,
   "metadata": {
    "collapsed": false
   },
   "outputs": [
    {
     "data": {
      "text/plain": [
       "<sqlite3.Cursor at 0x112e3e110>"
      ]
     },
     "execution_count": 6,
     "metadata": {},
     "output_type": "execute_result"
    }
   ],
   "source": [
    "con.execute(\"INSERT INTO reviews(title, review) VALUES ('アイアン・メイズ／ピッツバーグの幻想 - みんなのシネマレビュー', '3．《ネタバレ》　日本人がハリウッドで監督するってのに、わざわざまた「藪の中」を使うのは芸がないと思ってたんだけど、そう気にならなかった。もう「羅生門」型ってジャンルがあるってことか。これではみんなが誰かをかばって藪の中になっている。しかもアメリカ映画ですから結論が出ます。人によって見方は違う、ということを経て相互理解への道はある、って。滅んでいく町の人間の目に映る嫌味な金持ちの日本。このころは経済摩擦が問題化していて、コメディではよく扱われたが、この手のミステリー風のにまで登場したか、と思わされ、けっこう現地の雰囲気を出してたんじゃないか、よく知らないけど。彼が作ろうとしていた遊園地より、廃工場のほうが魅力的に見える。 【なんのかんの】さん [映画館(字幕)] 6点（2012-12-14 09:45:06）')\")"
   ]
  },
  {
   "cell_type": "code",
   "execution_count": null,
   "metadata": {
    "collapsed": true
   },
   "outputs": [],
   "source": []
  },
  {
   "cell_type": "code",
   "execution_count": 7,
   "metadata": {
    "collapsed": false
   },
   "outputs": [],
   "source": [
    "sql_query = '''\n",
    "SELECT * FROM reviews\n",
    "'''\n",
    "res_df = sql_to_df(sql_query)"
   ]
  },
  {
   "cell_type": "code",
   "execution_count": 9,
   "metadata": {
    "collapsed": false
   },
   "outputs": [
    {
     "data": {
      "text/html": [
       "<div>\n",
       "<table border=\"1\" class=\"dataframe\">\n",
       "  <thead>\n",
       "    <tr style=\"text-align: right;\">\n",
       "      <th></th>\n",
       "      <th>id</th>\n",
       "      <th>title</th>\n",
       "      <th>review</th>\n",
       "    </tr>\n",
       "  </thead>\n",
       "  <tbody>\n",
       "    <tr>\n",
       "      <th>0</th>\n",
       "      <td>None</td>\n",
       "      <td>天空の城ラピュタ</td>\n",
       "      <td>天空の城ラピュタへ冒険をする物語。</td>\n",
       "    </tr>\n",
       "    <tr>\n",
       "      <th>1</th>\n",
       "      <td>None</td>\n",
       "      <td>アイアン・メイズ／ピッツバーグの幻想 - みんなのシネマレビュー</td>\n",
       "      <td>3．《ネタバレ》　日本人がハリウッドで監督するってのに、わざわざまた「藪の中」を使うのは芸が...</td>\n",
       "    </tr>\n",
       "  </tbody>\n",
       "</table>\n",
       "</div>"
      ],
      "text/plain": [
       "     id                             title  \\\n",
       "0  None                          天空の城ラピュタ   \n",
       "1  None  アイアン・メイズ／ピッツバーグの幻想 - みんなのシネマレビュー   \n",
       "\n",
       "                                              review  \n",
       "0                                  天空の城ラピュタへ冒険をする物語。  \n",
       "1  3．《ネタバレ》　日本人がハリウッドで監督するってのに、わざわざまた「藪の中」を使うのは芸が...  "
      ]
     },
     "execution_count": 9,
     "metadata": {},
     "output_type": "execute_result"
    }
   ],
   "source": [
    "res_df"
   ]
  },
  {
   "cell_type": "code",
   "execution_count": 10,
   "metadata": {
    "collapsed": true
   },
   "outputs": [],
   "source": [
    "con.close()"
   ]
  },
  {
   "cell_type": "markdown",
   "metadata": {},
   "source": [
    "### カーソルを使用してみた"
   ]
  },
  {
   "cell_type": "code",
   "execution_count": 11,
   "metadata": {
    "collapsed": true
   },
   "outputs": [],
   "source": [
    "con = sqlite3.connect(\"movies.db\")"
   ]
  },
  {
   "cell_type": "code",
   "execution_count": 14,
   "metadata": {
    "collapsed": true
   },
   "outputs": [],
   "source": [
    "cur = con.cursor()"
   ]
  },
  {
   "cell_type": "code",
   "execution_count": 15,
   "metadata": {
    "collapsed": false
   },
   "outputs": [
    {
     "data": {
      "text/plain": [
       "<sqlite3.Cursor at 0x1134b4110>"
      ]
     },
     "execution_count": 15,
     "metadata": {},
     "output_type": "execute_result"
    }
   ],
   "source": [
    "cur.execute(\"insert into reviews(title, review) values('天空の城ラピュタ', '天空の城ラピュタへ冒険をする物語。')\")"
   ]
  },
  {
   "cell_type": "code",
   "execution_count": 23,
   "metadata": {
    "collapsed": false
   },
   "outputs": [
    {
     "name": "stdout",
     "output_type": "stream",
     "text": [
      "(None, '天空の城ラピュタ', '天空の城ラピュタへ冒険をする物語。')\n"
     ]
    }
   ],
   "source": [
    "sql_query = '''\n",
    "SELECT * FROM reviews\n",
    "'''\n",
    "cur.execute(sql_query)\n",
    "for row in cur:\n",
    "    print(row)\n"
   ]
  },
  {
   "cell_type": "code",
   "execution_count": 24,
   "metadata": {
    "collapsed": true
   },
   "outputs": [],
   "source": [
    "cur.close()"
   ]
  },
  {
   "cell_type": "code",
   "execution_count": 25,
   "metadata": {
    "collapsed": true
   },
   "outputs": [],
   "source": [
    "con.close()"
   ]
  },
  {
   "cell_type": "code",
   "execution_count": null,
   "metadata": {
    "collapsed": true
   },
   "outputs": [],
   "source": []
  },
  {
   "cell_type": "code",
   "execution_count": null,
   "metadata": {
    "collapsed": true
   },
   "outputs": [],
   "source": []
  }
 ],
 "metadata": {
  "kernelspec": {
   "display_name": "Python [Root]",
   "language": "python",
   "name": "Python [Root]"
  },
  "language_info": {
   "codemirror_mode": {
    "name": "ipython",
    "version": 3
   },
   "file_extension": ".py",
   "mimetype": "text/x-python",
   "name": "python",
   "nbconvert_exporter": "python",
   "pygments_lexer": "ipython3",
   "version": "3.5.2"
  }
 },
 "nbformat": 4,
 "nbformat_minor": 0
}

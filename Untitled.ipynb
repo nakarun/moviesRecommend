{
 "cells": [
  {
   "cell_type": "code",
   "execution_count": 1,
   "metadata": {
    "collapsed": true
   },
   "outputs": [],
   "source": [
    "#http://ism1000ch.hatenablog.com/entry/2014/03/10/232932\n",
    "import time\n",
    "start = time.time()"
   ]
  },
  {
   "cell_type": "code",
   "execution_count": 2,
   "metadata": {
    "collapsed": true
   },
   "outputs": [],
   "source": [
    "#パンダスの準備\n",
    "import pandas as pd\n",
    "from pandas import Series,DataFrame"
   ]
  },
  {
   "cell_type": "code",
   "execution_count": 3,
   "metadata": {
    "collapsed": true
   },
   "outputs": [],
   "source": [
    "#SQLの準備\n",
    "import sqlite3\n",
    "con = sqlite3.connect(\"movies_c.db\")"
   ]
  },
  {
   "cell_type": "code",
   "execution_count": 16,
   "metadata": {
    "collapsed": true
   },
   "outputs": [],
   "source": [
    "import MeCab"
   ]
  },
  {
   "cell_type": "code",
   "execution_count": 4,
   "metadata": {
    "collapsed": true
   },
   "outputs": [],
   "source": [
    "# 関数を作って、SQL文の実行結果をDataFrameにして返します。\n",
    "def sql_to_df(sql_query):\n",
    "\n",
    "    # read_sqlの引数に、SQL文とデータベースへのConnectionを渡します。\n",
    "    df = pd.read_sql(sql_query, con)\n",
    "\n",
    "    # 結果のDataFrameを返します。\n",
    "    return df"
   ]
  },
  {
   "cell_type": "code",
   "execution_count": 15,
   "metadata": {
    "collapsed": true
   },
   "outputs": [],
   "source": [
    "def want_to_df(want):\n",
    "    \n",
    "    #保存するようのDF\n",
    "    want_df = pd.DataFrame(columns=['id', 'word', 'num'])\n",
    "    \n",
    "    mecab = MeCab.Tagger ('-d /usr/local/lib/mecab/dic/mecab-ipadic-neologd')\n",
    "    \n",
    "    #字句解析して、pandasに保存\n",
    "    text = want\n",
    "    \n",
    "    mecab.parse('')#文字列がGCされるのを防ぐ\n",
    "    node = mecab.parseToNode(text)\n",
    "    i_id=0\n",
    "    while node:\n",
    "\n",
    "        #単語を取得\n",
    "        word = node.surface\n",
    "        #品詞を取得\n",
    "        pos = node.feature.split(\",\")[1]\n",
    "        \n",
    "        #次の単語に進める\n",
    "        node = node.next\n",
    "\n",
    "        s = pd.DataFrame([[i_id, word, 1]], columns=['id', 'word', 'num'])\n",
    "        want_df = want_df.append(s)\n",
    "    \n",
    "    i_id += 1\n",
    "    \n",
    "    return want_df"
   ]
  },
  {
   "cell_type": "code",
   "execution_count": 20,
   "metadata": {
    "collapsed": true
   },
   "outputs": [],
   "source": [
    "def hinshutsu_to_df(want_df, num_words):\n",
    "    \n",
    "    #その対応表と字句解析したワードの表をマージ\n",
    "    m = pd.merge(want_df, num_words, on='word')\n",
    "    \n",
    "    #頻出回数を計算\n",
    "    mm = m.groupby(\"id_y\")[\"num\"].sum()\n",
    "    \n",
    "    mmm = pd.DataFrame(mm)\n",
    "    want_df = mmm.T\n",
    "    \n",
    "    return want_df"
   ]
  },
  {
   "cell_type": "code",
   "execution_count": 34,
   "metadata": {
    "collapsed": true
   },
   "outputs": [],
   "source": [
    "def all_to_df(want_df, all_df):\n",
    "    want_df = want_df.T\n",
    "    last_df = all_df.join(want_df)\n",
    "    last_df = last_df.fillna(0)\n",
    "    all_df = last_df.T\n",
    "    return all_df"
   ]
  },
  {
   "cell_type": "code",
   "execution_count": 39,
   "metadata": {
    "collapsed": true
   },
   "outputs": [],
   "source": [
    "def last_to_df(want):\n",
    "    want_df = want_to_df(want)\n",
    "    \n",
    "    #先に保存しておいたモデルのワードとIDの対応表をpandasで作成しておく\n",
    "    sql_query='''\n",
    "    SELECT * FROM num_words\n",
    "    '''\n",
    "    num_words = sql_to_df(sql_query)\n",
    "    \n",
    "    want_df = hinshutsu_to_df(want_df, num_words)\n",
    "    \n",
    "    l = []\n",
    "    for num in range(0,30400):\n",
    "        literal = num\n",
    "        l.append(literal)\n",
    "    \n",
    "    all_df = pd.DataFrame(columns = l)\n",
    "    all_df = all_df.T\n",
    "    all_df.index.names = [\"id_y\"]\n",
    "    \n",
    "    last_df = all_to_df(want_df, all_df)\n",
    "    \n",
    "    return last_df"
   ]
  },
  {
   "cell_type": "code",
   "execution_count": 48,
   "metadata": {
    "collapsed": true
   },
   "outputs": [],
   "source": [
    "import numpy as np\n",
    "import pandas as pd\n",
    "from pandas import Series,DataFrame\n",
    "\n",
    "from sklearn import linear_model\n",
    "from sklearn.externals import joblib\n",
    "\n",
    "def Pred(last_df):\n",
    "    \n",
    "    #モデルの読み込み\n",
    "    logreg = joblib.load(\"model_dir/model\")\n",
    "\n",
    "    all_numpyMatrix_data = last_df.as_matrix()\n",
    "    X_test = all_numpyMatrix_data\n",
    "    _test_data = DataFrame(X_test)\n",
    "    \n",
    "    # テストデータを予測します。\n",
    "    Y_pred = logreg.predict(X_test)\n",
    "    \n",
    "    return Y_pred[0]"
   ]
  },
  {
   "cell_type": "markdown",
   "metadata": {},
   "source": [
    "# MAIN START"
   ]
  },
  {
   "cell_type": "code",
   "execution_count": 57,
   "metadata": {
    "collapsed": true
   },
   "outputs": [],
   "source": [
    "import time\n",
    "start = time.time()"
   ]
  },
  {
   "cell_type": "code",
   "execution_count": 58,
   "metadata": {
    "collapsed": true
   },
   "outputs": [],
   "source": [
    "want = '''\n",
    "コメディ映画。めちゃくちゃ笑いたい。イギリスっぽいアイロニーを含んだ映画がみたい。\n",
    "知的な笑いで、パティントンとかそういう映画。\n",
    "テッドとか下品な映画ではなくて、上品な笑いがいい。\n",
    "'''"
   ]
  },
  {
   "cell_type": "code",
   "execution_count": 59,
   "metadata": {
    "collapsed": true
   },
   "outputs": [],
   "source": [
    "#特徴量行列を作成\n",
    "last_df = last_to_df(want)"
   ]
  },
  {
   "cell_type": "code",
   "execution_count": 60,
   "metadata": {
    "collapsed": false
   },
   "outputs": [
    {
     "data": {
      "text/plain": [
       "<function Connection.close>"
      ]
     },
     "execution_count": 60,
     "metadata": {},
     "output_type": "execute_result"
    }
   ],
   "source": [
    "con.close"
   ]
  },
  {
   "cell_type": "code",
   "execution_count": 61,
   "metadata": {
    "collapsed": false
   },
   "outputs": [
    {
     "data": {
      "text/plain": [
       "'アダムス・ファミリー'"
      ]
     },
     "execution_count": 61,
     "metadata": {},
     "output_type": "execute_result"
    }
   ],
   "source": [
    "Pred(last_df)"
   ]
  },
  {
   "cell_type": "code",
   "execution_count": 62,
   "metadata": {
    "collapsed": false
   },
   "outputs": [
    {
     "name": "stdout",
     "output_type": "stream",
     "text": [
      "elapsed_time:2.3735499382019043\n"
     ]
    }
   ],
   "source": [
    "elapsed_time = time.time() - start\n",
    "print(\"elapsed_time:{0}\".format(elapsed_time))"
   ]
  },
  {
   "cell_type": "code",
   "execution_count": null,
   "metadata": {
    "collapsed": true
   },
   "outputs": [],
   "source": []
  }
 ],
 "metadata": {
  "kernelspec": {
   "display_name": "Python [Root]",
   "language": "python",
   "name": "Python [Root]"
  },
  "language_info": {
   "codemirror_mode": {
    "name": "ipython",
    "version": 3
   },
   "file_extension": ".py",
   "mimetype": "text/x-python",
   "name": "python",
   "nbconvert_exporter": "python",
   "pygments_lexer": "ipython3",
   "version": "3.5.2"
  }
 },
 "nbformat": 4,
 "nbformat_minor": 0
}
